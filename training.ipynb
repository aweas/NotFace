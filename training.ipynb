{
 "cells": [
  {
   "cell_type": "code",
   "execution_count": 151,
   "metadata": {},
   "outputs": [],
   "source": [
    "import numpy as np\n",
    "import matplotlib\n",
    "import matplotlib.pyplot as plt\n",
    "from keras.models import Model\n",
    "from keras.layers import Dense, Convolution2D, MaxPooling2D, Activation, BatchNormalization, Input, Flatten\n",
    "import scipy.misc\n",
    "from glob import glob\n",
    "from sklearn.model_selection import train_test_split"
   ]
  },
  {
   "cell_type": "code",
   "execution_count": 169,
   "metadata": {},
   "outputs": [],
   "source": [
    "categories = glob('101_ObjectCategories/*')\n",
    "index = 0\n",
    "def readRandomNonFace():\n",
    "    reroll = True\n",
    "    \n",
    "    while reroll:\n",
    "        random_category_files = glob('%s/*' % categories[int(np.random.random(1)*len(categories))])\n",
    "        while(len(random_category_files) == 0):\n",
    "            random_category_files = glob('%s/*' % categories[int(np.random.random(1)*len(categories))])\n",
    "\n",
    "        counter = 0\n",
    "        \n",
    "        index = int(np.random.random(1)*len(random_category_files))\n",
    "        x = plt.imread(random_category_files[index])  \n",
    "        if(len(x.shape) == 3):\n",
    "            reroll = False\n",
    "                \n",
    "        while(len(x.shape) != 3 and counter<10):\n",
    "            index = int(np.random.random(1)*len(random_category_files))\n",
    "            x = plt.imread(random_category_files[index])    \n",
    "            counter += 1\n",
    "            \n",
    "            if(len(x.shape) == 3):\n",
    "                reroll = False\n",
    "\n",
    "    return x"
   ]
  },
  {
   "cell_type": "code",
   "execution_count": 205,
   "metadata": {},
   "outputs": [],
   "source": [
    "faces = [scipy.misc.imresize(plt.imread(i), (32, 32, 3)) for i in glob('Faces/*')]\n",
    "nonFaces = [scipy.misc.imresize(readRandomNonFace(), (32, 32, 3)) for i in range(len(faces))]"
   ]
  },
  {
   "cell_type": "code",
   "execution_count": 206,
   "metadata": {},
   "outputs": [
    {
     "data": {
      "image/png": "[encoded data removed]",
      "text/plain": [
       "<matplotlib.figure.Figure at 0x7f366fcf5908>"
      ]
     },
     "metadata": {},
     "output_type": "display_data"
    }
   ],
   "source": [
    "x1 = faces[int(np.random.random(1)*len(faces))]\n",
    "x2 = nonFaces[int(np.random.random(1)*len(nonFaces))]\n",
    "\n",
    "plt.figure(figsize=(16, 5))\n",
    "plt.subplot(121)\n",
    "plt.imshow(x1)\n",
    "plt.title('Face');\n",
    "\n",
    "plt.subplot(122)\n",
    "plt.imshow(x2)\n",
    "plt.title('NotFace');"
   ]
  },
  {
   "cell_type": "code",
   "execution_count": 207,
   "metadata": {},
   "outputs": [],
   "source": [
    "X = np.concatenate(faces + nonFaces).reshape((870, 32, 32, 3))\n",
    "y = [(1, 0) for i in range(len(faces))]\n",
    "y.extend([(0, 1) for i in range(len(nonFaces))])\n",
    "y = np.array(y)\n",
    "\n",
    "X_train, X_test, y_train, y_test = train_test_split(X, y, test_size=0.2, random_state=42)"
   ]
  },
  {
   "cell_type": "code",
   "execution_count": 211,
   "metadata": {},
   "outputs": [
    {
     "name": "stdout",
     "output_type": "stream",
     "text": [
      "_________________________________________________________________\n",
      "Layer (type)                 Output Shape              Param #   \n",
      "=================================================================\n",
      "input_10 (InputLayer)        (None, 32, 32, 3)         0         \n",
      "_________________________________________________________________\n",
      "conv2d_18 (Conv2D)           (None, 32, 32, 32)        896       \n",
      "_________________________________________________________________\n",
      "activation_39 (Activation)   (None, 32, 32, 32)        0         \n",
      "_________________________________________________________________\n",
      "max_pooling2d_17 (MaxPooling (None, 16, 16, 32)        0         \n",
      "_________________________________________________________________\n",
      "conv2d_19 (Conv2D)           (None, 16, 16, 64)        18496     \n",
      "_________________________________________________________________\n",
      "activation_40 (Activation)   (None, 16, 16, 64)        0         \n",
      "_________________________________________________________________\n",
      "max_pooling2d_18 (MaxPooling (None, 8, 8, 64)          0         \n",
      "_________________________________________________________________\n",
      "flatten_9 (Flatten)          (None, 4096)              0         \n",
      "_________________________________________________________________\n",
      "dense_23 (Dense)             (None, 512)               2097664   \n",
      "_________________________________________________________________\n",
      "activation_41 (Activation)   (None, 512)               0         \n",
      "_________________________________________________________________\n",
      "batch_normalization_1 (Batch (None, 512)               2048      \n",
      "_________________________________________________________________\n",
      "dense_24 (Dense)             (None, 256)               131328    \n",
      "_________________________________________________________________\n",
      "activation_42 (Activation)   (None, 256)               0         \n",
      "_________________________________________________________________\n",
      "dense_25 (Dense)             (None, 128)               32896     \n",
      "_________________________________________________________________\n",
      "activation_43 (Activation)   (None, 128)               0         \n",
      "_________________________________________________________________\n",
      "batch_normalization_2 (Batch (None, 128)               512       \n",
      "_________________________________________________________________\n",
      "dense_26 (Dense)             (None, 64)                8256      \n",
      "_________________________________________________________________\n",
      "activation_44 (Activation)   (None, 64)                0         \n",
      "_________________________________________________________________\n",
      "dense_27 (Dense)             (None, 2)                 130       \n",
      "_________________________________________________________________\n",
      "activation_45 (Activation)   (None, 2)                 0         \n",
      "=================================================================\n",
      "Total params: 2,292,226\n",
      "Trainable params: 2,290,946\n",
      "Non-trainable params: 1,280\n",
      "_________________________________________________________________\n"
     ]
    }
   ],
   "source": [
    "input_layer = Input(shape=(32, 32, 3))\n",
    "\n",
    "layer = Convolution2D(32, (3, 3), padding='same')(input_layer)\n",
    "layer = Activation('relu')(layer)\n",
    "layer = MaxPooling2D((2, 2))(layer)\n",
    "\n",
    "layer = Convolution2D(64, (3, 3), padding='same')(layer)\n",
    "layer = Activation('relu')(layer)\n",
    "layer = MaxPooling2D((2, 2))(layer)\n",
    "\n",
    "layer = Flatten()(layer)\n",
    "\n",
    "layer = Dense(512)(layer)\n",
    "layer = Activation('relu')(layer)\n",
    "layer = BatchNormalization()(layer)\n",
    "\n",
    "layer = Dense(256)(layer)\n",
    "layer = Activation('relu')(layer)\n",
    "\n",
    "layer = Dense(128)(layer)\n",
    "layer = Activation('relu')(layer)\n",
    "layer = BatchNormalization()(layer)\n",
    "\n",
    "layer = Dense(64)(layer)\n",
    "layer = Activation('relu')(layer)\n",
    "\n",
    "prediction = Dense(2)(layer)\n",
    "prediction = Activation('softmax')(prediction)\n",
    "\n",
    "model = Model(input_layer, prediction)\n",
    "\n",
    "model.summary()\n",
    "model.compile(loss='categorical_crossentropy', optimizer='adam', metrics=['accuracy'])"
   ]
  },
  {
   "cell_type": "code",
   "execution_count": 212,
   "metadata": {},
   "outputs": [
    {
     "name": "stdout",
     "output_type": "stream",
     "text": [
      "Train on 626 samples, validate on 70 samples\n",
      "Epoch 1/20\n",
      "626/626 [==============================] - 6s 9ms/step - loss: 0.3408 - acc: 0.8435 - val_loss: 1.0654 - val_acc: 0.6429\n",
      "Epoch 2/20\n",
      "626/626 [==============================] - 5s 7ms/step - loss: 0.0838 - acc: 0.9808 - val_loss: 0.7117 - val_acc: 0.8000\n",
      "Epoch 3/20\n",
      "626/626 [==============================] - 6s 10ms/step - loss: 0.0358 - acc: 0.9904 - val_loss: 0.1064 - val_acc: 0.9714\n",
      "Epoch 4/20\n",
      "626/626 [==============================] - 4s 7ms/step - loss: 0.0279 - acc: 0.9920 - val_loss: 0.3276 - val_acc: 0.9429\n",
      "Epoch 5/20\n",
      "626/626 [==============================] - 5s 7ms/step - loss: 0.0302 - acc: 0.9888 - val_loss: 6.3770 - val_acc: 0.5429\n",
      "Epoch 6/20\n",
      "626/626 [==============================] - 4s 7ms/step - loss: 0.0098 - acc: 0.9984 - val_loss: 0.1248 - val_acc: 0.9714\n",
      "Epoch 7/20\n",
      "626/626 [==============================] - 5s 7ms/step - loss: 0.0081 - acc: 0.9984 - val_loss: 0.2781 - val_acc: 0.8714\n",
      "Epoch 8/20\n",
      "626/626 [==============================] - 5s 7ms/step - loss: 0.0042 - acc: 1.0000 - val_loss: 0.3257 - val_acc: 0.8857\n",
      "Epoch 9/20\n",
      "626/626 [==============================] - 5s 7ms/step - loss: 0.0019 - acc: 1.0000 - val_loss: 0.1048 - val_acc: 0.9714\n",
      "Epoch 10/20\n",
      "626/626 [==============================] - 5s 7ms/step - loss: 0.0011 - acc: 1.0000 - val_loss: 0.0974 - val_acc: 0.9857\n",
      "Epoch 11/20\n",
      "626/626 [==============================] - 5s 8ms/step - loss: 0.0015 - acc: 1.0000 - val_loss: 0.1031 - val_acc: 0.9714\n",
      "Epoch 12/20\n",
      "626/626 [==============================] - 5s 8ms/step - loss: 8.7421e-04 - acc: 1.0000 - val_loss: 0.1112 - val_acc: 0.9714\n",
      "Epoch 13/20\n",
      "626/626 [==============================] - 5s 8ms/step - loss: 5.4801e-04 - acc: 1.0000 - val_loss: 0.1151 - val_acc: 0.9714\n",
      "Epoch 14/20\n",
      "626/626 [==============================] - 4s 7ms/step - loss: 5.9302e-04 - acc: 1.0000 - val_loss: 0.1181 - val_acc: 0.9714\n",
      "Epoch 15/20\n",
      "626/626 [==============================] - 5s 8ms/step - loss: 2.6600e-04 - acc: 1.0000 - val_loss: 0.1177 - val_acc: 0.9714\n",
      "Epoch 16/20\n",
      "626/626 [==============================] - 5s 8ms/step - loss: 3.1811e-04 - acc: 1.0000 - val_loss: 0.1172 - val_acc: 0.9714\n",
      "Epoch 17/20\n",
      "626/626 [==============================] - 5s 7ms/step - loss: 7.6332e-04 - acc: 1.0000 - val_loss: 0.1117 - val_acc: 0.9714\n",
      "Epoch 18/20\n",
      "626/626 [==============================] - 5s 7ms/step - loss: 3.7904e-04 - acc: 1.0000 - val_loss: 0.1119 - val_acc: 0.9714\n",
      "Epoch 19/20\n",
      "626/626 [==============================] - 5s 8ms/step - loss: 2.4493e-04 - acc: 1.0000 - val_loss: 0.1122 - val_acc: 0.9714\n",
      "Epoch 20/20\n",
      "626/626 [==============================] - 5s 7ms/step - loss: 3.8866e-04 - acc: 1.0000 - val_loss: 0.1120 - val_acc: 0.9714\n"
     ]
    },
    {
     "data": {
      "text/plain": [
       "<keras.callbacks.History at 0x7f365e299b70>"
      ]
     },
     "execution_count": 212,
     "metadata": {},
     "output_type": "execute_result"
    }
   ],
   "source": [
    "model.fit(X_train, y_train, batch_size=64, epochs=5, validation_split=0.1)"
   ]
  },
  {
   "cell_type": "code",
   "execution_count": 213,
   "metadata": {},
   "outputs": [
    {
     "name": "stdout",
     "output_type": "stream",
     "text": [
      "174/174 [==============================] - 0s 3ms/step\n"
     ]
    },
    {
     "data": {
      "text/plain": [
       "[0.04023357763941314, 0.99425287356321834]"
      ]
     },
     "execution_count": 213,
     "metadata": {},
     "output_type": "execute_result"
    }
   ],
   "source": [
    "model.evaluate(X_test, y_test)"
   ]
  },
  {
   "cell_type": "code",
   "execution_count": 223,
   "metadata": {},
   "outputs": [
    {
     "data": {
      "image/png": "[encoded data removed]",
      "text/plain": [
       "<matplotlib.figure.Figure at 0x7f365c2f6630>"
      ]
     },
     "metadata": {},
     "output_type": "display_data"
    }
   ],
   "source": [
    "# for i in X_test:\n",
    "for i, j, k in zip(np.round(model.predict(X_test)), y_test, X_test):\n",
    "    if i[0] != j[0]:\n",
    "        plt.imshow(k)"
   ]
  }
 ],
 "metadata": {
  "kernelspec": {
   "display_name": "Python 3",
   "language": "python",
   "name": "python3"
  },
  "language_info": {
   "codemirror_mode": {
    "name": "ipython",
    "version": 3
   },
   "file_extension": ".py",
   "mimetype": "text/x-python",
   "name": "python",
   "nbconvert_exporter": "python",
   "pygments_lexer": "ipython3",
   "version": "3.6.2"
  }
 },
 "nbformat": 4,
 "nbformat_minor": 1
}
