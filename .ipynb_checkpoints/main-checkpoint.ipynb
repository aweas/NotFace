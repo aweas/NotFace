{
 "cells": [
  {
   "cell_type": "code",
   "execution_count": 151,
   "metadata": {},
   "outputs": [],
   "source": [
    "import numpy as np\n",
    "import matplotlib\n",
    "import matplotlib.pyplot as plt\n",
    "from keras.models import Model\n",
    "from keras.layers import Dense, Convolution2D, MaxPooling2D, Activation, BatchNormalization, Input, Flatten\n",
    "import scipy.misc\n",
    "from glob import glob\n",
    "from sklearn.model_selection import train_test_split"
   ]
  },
  {
   "cell_type": "code",
   "execution_count": 169,
   "metadata": {},
   "outputs": [],
   "source": [
    "categories = glob('101_ObjectCategories/*')\n",
    "index = 0\n",
    "def readRandomNonFace():\n",
    "    reroll = True\n",
    "    \n",
    "    while reroll:\n",
    "        random_category_files = glob('%s/*' % categories[int(np.random.random(1)*len(categories))])\n",
    "        while(len(random_category_files) == 0):\n",
    "            random_category_files = glob('%s/*' % categories[int(np.random.random(1)*len(categories))])\n",
    "\n",
    "        counter = 0\n",
    "        \n",
    "        index = int(np.random.random(1)*len(random_category_files))\n",
    "        x = plt.imread(random_category_files[index])  \n",
    "        if(len(x.shape) == 3):\n",
    "            reroll = False\n",
    "                \n",
    "        while(len(x.shape) != 3 and counter<10):\n",
    "            index = int(np.random.random(1)*len(random_category_files))\n",
    "            x = plt.imread(random_category_files[index])    \n",
    "            counter += 1\n",
    "            \n",
    "            if(len(x.shape) == 3):\n",
    "                reroll = False\n",
    "\n",
    "    return x"
   ]
  },
  {
   "cell_type": "code",
   "execution_count": null,
   "metadata": {},
   "outputs": [],
   "source": [
    "faces = [scipy.misc.imresize(plt.imread(i), (32, 32, 3)) for i in glob('Faces/*')]\n",
    "nonFaces = [scipy.misc.imresize(readRandomNonFace(), (32, 32, 3)) for i in range(len(faces))]"
   ]
  },
  {
   "cell_type": "code",
   "execution_count": null,
   "metadata": {},
   "outputs": [],
   "source": [
    "x1 = faces[int(np.random.random(1)*len(faces))]\n",
    "x2 = nonFaces[int(np.random.random(1)*len(nonFaces))]\n",
    "\n",
    "plt.figure(figsize=(16, 5))\n",
    "plt.subplot(121)\n",
    "plt.imshow(x1)\n",
    "plt.title('Face');\n",
    "\n",
    "plt.subplot(122)\n",
    "plt.imshow(x2)\n",
    "plt.title('NotFace');"
   ]
  },
  {
   "cell_type": "code",
   "execution_count": null,
   "metadata": {},
   "outputs": [],
   "source": [
    "X = np.concatenate(faces + nonFaces).reshape((870, 32, 32, 3))\n",
    "y = [(1, 0) for i in range(len(faces))]\n",
    "y.extend([(0, 1) for i in range(len(nonFaces))])\n",
    "y = np.array(y)\n",
    "\n",
    "X_train, X_test, y_train, y_test = train_test_split(X, y, test_size=0.2, random_state=42)"
   ]
  },
  {
   "cell_type": "code",
   "execution_count": null,
   "metadata": {},
   "outputs": [],
   "source": [
    "input_layer = Input(shape=(32, 32, 3))\n",
    "\n",
    "layer = Convolution2D(32, (3, 3), padding='same')(input_layer)\n",
    "layer = Activation('relu')(layer)\n",
    "layer = MaxPooling2D((2, 2))(layer)\n",
    "\n",
    "layer = Convolution2D(64, (3, 3), padding='same')(layer)\n",
    "layer = Activation('relu')(layer)\n",
    "layer = MaxPooling2D((2, 2))(layer)\n",
    "\n",
    "layer = Flatten()(layer)\n",
    "\n",
    "layer = Dense(512)(layer)\n",
    "layer = Activation('relu')(layer)\n",
    "layer = BatchNormalization(layer)\n",
    "\n",
    "layer = Dense(256)(layer)\n",
    "layer = Activation('relu')(layer)\n",
    "\n",
    "layer = Dense(128)(layer)\n",
    "layer = Activation('relu')(layer)\n",
    "layer = BatchNormalization(layer)\n",
    "\n",
    "layer = Dense(64)(layer)\n",
    "layer = Activation('relu')(layer)\n",
    "\n",
    "prediction = Dense(2)(layer)\n",
    "prediction = Activation('softmax')(prediction)\n",
    "\n",
    "model = Model(input_layer, prediction)\n",
    "\n",
    "model.summary()\n",
    "model.compile(loss='categorical_crossentropy', optimizer='adam', metrics=['accuracy'])"
   ]
  },
  {
   "cell_type": "code",
   "execution_count": null,
   "metadata": {},
   "outputs": [],
   "source": [
    "model.fit(X_train, y_train, batch_size=64, epochs=20, validation_split=0.1)"
   ]
  },
  {
   "cell_type": "code",
   "execution_count": 193,
   "metadata": {},
   "outputs": [
    {
     "ename": "AttributeError",
     "evalue": "'list' object has no attribute 'ndim'",
     "output_type": "error",
     "traceback": [
      "\u001b[0;31m---------------------------------------------------------------------------\u001b[0m",
      "\u001b[0;31mAttributeError\u001b[0m                            Traceback (most recent call last)",
      "\u001b[0;32m<ipython-input-193-d58461de776d>\u001b[0m in \u001b[0;36m<module>\u001b[0;34m()\u001b[0m\n\u001b[0;32m----> 1\u001b[0;31m \u001b[0my_train\u001b[0m\u001b[0;34m.\u001b[0m\u001b[0mndim\u001b[0m\u001b[0;34m\u001b[0m\u001b[0m\n\u001b[0m",
      "\u001b[0;31mAttributeError\u001b[0m: 'list' object has no attribute 'ndim'"
     ]
    }
   ],
   "source": [
    "y_train.ndim"
   ]
  }
 ],
 "metadata": {
  "kernelspec": {
   "display_name": "Python 3.6",
   "language": "python",
   "name": "python36"
  },
  "language_info": {
   "codemirror_mode": {
    "name": "ipython",
    "version": 3
   },
   "file_extension": ".py",
   "mimetype": "text/x-python",
   "name": "python",
   "nbconvert_exporter": "python",
   "pygments_lexer": "ipython3",
   "version": "3.6.3"
  }
 },
 "nbformat": 4,
 "nbformat_minor": 2
}
